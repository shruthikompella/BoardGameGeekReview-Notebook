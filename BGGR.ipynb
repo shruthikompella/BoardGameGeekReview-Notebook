{
 "cells": [
  {
   "cell_type": "markdown",
   "metadata": {},
   "source": [
    "# [BoardGameGeek Reviews](https://www.kaggle.com/jvanelteren/boardgamegeek-reviews)"
   ]
  },
  {
   "cell_type": "markdown",
   "metadata": {},
   "source": [
    "## Import Libraries"
   ]
  },
  {
   "cell_type": "code",
   "execution_count": 2,
   "metadata": {},
   "outputs": [],
   "source": [
    "import numpy as np\n",
    "import pandas as pd\n",
    "import matplotlib.pyplot as plt\n",
    "import collections\n",
    "from collections import Counter\n",
    "from bs4 import BeautifulSoup\n",
    "import nltk\n",
    "import re\n",
    "from textblob import TextBlob\n",
    "from wordcloud import WordCloud\n",
    "from nltk import word_tokenize \n",
    "from nltk.corpus import stopwords\n",
    "from googletrans import Translator\n",
    "from nltk.stem import PorterStemmer\n",
    "from nltk.tokenize import WordPunctTokenizer\n",
    "from sklearn.model_selection import train_test_split\n",
    "from sklearn.pipeline import Pipeline\n",
    "from sklearn.feature_selection import SelectKBest, chi2\n",
    "from sklearn.linear_model import LinearRegression\n",
    "from sklearn.feature_extraction.text import CountVectorizer\n",
    "from sklearn.feature_extraction.text import TfidfTransformer\n",
    "from sklearn.feature_extraction.text import TfidfVectorizer\n",
    "from sklearn.naive_bayes import MultinomialNB\n",
    "from sklearn.linear_model import LogisticRegression\n",
    "from sklearn.ensemble import RandomForestClassifier\n",
    "from sklearn.svm import LinearSVC\n",
    "from sklearn.linear_model import Ridge\n",
    "from sklearn.linear_model import RidgeCV\n",
    "from sklearn.model_selection import cross_val_score\n",
    "from sklearn.metrics import confusion_matrix\n",
    "from sklearn import metrics\n",
    "from sklearn.metrics import accuracy_score\n",
    "from sklearn.metrics import mean_squared_error, r2_score\n",
    "from sklearn import linear_model\n",
    "import pickle\n",
    "import string\n",
    "\n",
    "\n"
   ]
  },
  {
   "cell_type": "markdown",
   "metadata": {},
   "source": [
    "## Load Data in Chunks\n",
    "> * Sometimes your data file is so large you can’t load it into memory at all, even with compression. So how do you process it quickly?\n",
    "> * By loading and then processing the data in chunks, you can load only part of the file into memory at any given time. And that means you can process files that don’t fit in memory.\n",
    "> * Since it's a dataset of 13million records, I preferred loading in chunks"
   ]
  },
  {
   "cell_type": "code",
   "execution_count": 33,
   "metadata": {},
   "outputs": [],
   "source": [
    "chunk_list = []\n",
    "ave_bytes = 0\n",
    "\n",
    "for index, chunk in enumerate(pd.read_csv('FinalProject/bgg-13m-reviews.csv/bgg-13m-reviews.csv', chunksize= 1000000),start=1):\n",
    "# We add total memory per chunk to ave_bytes\n",
    "    ave_bytes += chunk.memory_usage().sum()\n",
    "    chunk_list.append(chunk)\n",
    "df_reviews = pd.concat(chunk_list)\n",
    "#df_reviews.columns"
   ]
  },
  {
   "cell_type": "markdown",
   "metadata": {},
   "source": [
    "## Let's Explore the data"
   ]
  },
  {
   "cell_type": "markdown",
   "metadata": {},
   "source": [
    "#### Number of Rows and Columns"
   ]
  },
  {
   "cell_type": "code",
   "execution_count": 34,
   "metadata": {},
   "outputs": [
    {
     "data": {
      "text/plain": [
       "(13170073, 6)"
      ]
     },
     "execution_count": 34,
     "metadata": {},
     "output_type": "execute_result"
    }
   ],
   "source": [
    "df_reviews.shape"
   ]
  },
  {
   "cell_type": "markdown",
   "metadata": {},
   "source": [
    "#### DataTypes"
   ]
  },
  {
   "cell_type": "code",
   "execution_count": 35,
   "metadata": {},
   "outputs": [
    {
     "data": {
      "text/plain": [
       "Unnamed: 0      int64\n",
       "user           object\n",
       "rating        float64\n",
       "comment        object\n",
       "ID              int64\n",
       "name           object\n",
       "dtype: object"
      ]
     },
     "execution_count": 35,
     "metadata": {},
     "output_type": "execute_result"
    }
   ],
   "source": [
    "df_reviews.dtypes"
   ]
  },
  {
   "cell_type": "markdown",
   "metadata": {},
   "source": [
    "#### \"GAME REVIEW-RATING DATASET\""
   ]
  },
  {
   "cell_type": "code",
   "execution_count": 36,
   "metadata": {},
   "outputs": [
    {
     "data": {
      "text/html": [
       "<div>\n",
       "<style scoped>\n",
       "    .dataframe tbody tr th:only-of-type {\n",
       "        vertical-align: middle;\n",
       "    }\n",
       "\n",
       "    .dataframe tbody tr th {\n",
       "        vertical-align: top;\n",
       "    }\n",
       "\n",
       "    .dataframe thead th {\n",
       "        text-align: right;\n",
       "    }\n",
       "</style>\n",
       "<table border=\"1\" class=\"dataframe\">\n",
       "  <thead>\n",
       "    <tr style=\"text-align: right;\">\n",
       "      <th></th>\n",
       "      <th>Unnamed: 0</th>\n",
       "      <th>user</th>\n",
       "      <th>rating</th>\n",
       "      <th>comment</th>\n",
       "      <th>ID</th>\n",
       "      <th>name</th>\n",
       "    </tr>\n",
       "  </thead>\n",
       "  <tbody>\n",
       "    <tr>\n",
       "      <td>0</td>\n",
       "      <td>0</td>\n",
       "      <td>sidehacker</td>\n",
       "      <td>10.0</td>\n",
       "      <td>NaN</td>\n",
       "      <td>13</td>\n",
       "      <td>Catan</td>\n",
       "    </tr>\n",
       "    <tr>\n",
       "      <td>1</td>\n",
       "      <td>1</td>\n",
       "      <td>Varthlokkur</td>\n",
       "      <td>10.0</td>\n",
       "      <td>NaN</td>\n",
       "      <td>13</td>\n",
       "      <td>Catan</td>\n",
       "    </tr>\n",
       "    <tr>\n",
       "      <td>2</td>\n",
       "      <td>2</td>\n",
       "      <td>dougthonus</td>\n",
       "      <td>10.0</td>\n",
       "      <td>Currently, this sits on my list as my favorite...</td>\n",
       "      <td>13</td>\n",
       "      <td>Catan</td>\n",
       "    </tr>\n",
       "    <tr>\n",
       "      <td>3</td>\n",
       "      <td>3</td>\n",
       "      <td>cypar7</td>\n",
       "      <td>10.0</td>\n",
       "      <td>I know it says how many plays, but many, many ...</td>\n",
       "      <td>13</td>\n",
       "      <td>Catan</td>\n",
       "    </tr>\n",
       "    <tr>\n",
       "      <td>4</td>\n",
       "      <td>4</td>\n",
       "      <td>ssmooth</td>\n",
       "      <td>10.0</td>\n",
       "      <td>NaN</td>\n",
       "      <td>13</td>\n",
       "      <td>Catan</td>\n",
       "    </tr>\n",
       "    <tr>\n",
       "      <td>...</td>\n",
       "      <td>...</td>\n",
       "      <td>...</td>\n",
       "      <td>...</td>\n",
       "      <td>...</td>\n",
       "      <td>...</td>\n",
       "      <td>...</td>\n",
       "    </tr>\n",
       "    <tr>\n",
       "      <td>13170068</td>\n",
       "      <td>3356495</td>\n",
       "      <td>pswissler</td>\n",
       "      <td>3.0</td>\n",
       "      <td>NaN</td>\n",
       "      <td>8256</td>\n",
       "      <td>LEGO Constructionary Game</td>\n",
       "    </tr>\n",
       "    <tr>\n",
       "      <td>13170069</td>\n",
       "      <td>3356496</td>\n",
       "      <td>Sprayoncrayon</td>\n",
       "      <td>3.0</td>\n",
       "      <td>Lego created a version of Pictionary, only you...</td>\n",
       "      <td>8256</td>\n",
       "      <td>LEGO Constructionary Game</td>\n",
       "    </tr>\n",
       "    <tr>\n",
       "      <td>13170070</td>\n",
       "      <td>3356497</td>\n",
       "      <td>PhoenixSong</td>\n",
       "      <td>2.5</td>\n",
       "      <td>This game is very similar to Creationary. It c...</td>\n",
       "      <td>8256</td>\n",
       "      <td>LEGO Constructionary Game</td>\n",
       "    </tr>\n",
       "    <tr>\n",
       "      <td>13170071</td>\n",
       "      <td>3356498</td>\n",
       "      <td>tsantos</td>\n",
       "      <td>2.0</td>\n",
       "      <td>This game was really bad.  Worst that I've pla...</td>\n",
       "      <td>8256</td>\n",
       "      <td>LEGO Constructionary Game</td>\n",
       "    </tr>\n",
       "    <tr>\n",
       "      <td>13170072</td>\n",
       "      <td>3356499</td>\n",
       "      <td>Mighty Florist</td>\n",
       "      <td>2.0</td>\n",
       "      <td>NaN</td>\n",
       "      <td>8256</td>\n",
       "      <td>LEGO Constructionary Game</td>\n",
       "    </tr>\n",
       "  </tbody>\n",
       "</table>\n",
       "<p>13170073 rows × 6 columns</p>\n",
       "</div>"
      ],
      "text/plain": [
       "          Unnamed: 0            user  rating  \\\n",
       "0                  0      sidehacker    10.0   \n",
       "1                  1     Varthlokkur    10.0   \n",
       "2                  2      dougthonus    10.0   \n",
       "3                  3          cypar7    10.0   \n",
       "4                  4         ssmooth    10.0   \n",
       "...              ...             ...     ...   \n",
       "13170068     3356495       pswissler     3.0   \n",
       "13170069     3356496   Sprayoncrayon     3.0   \n",
       "13170070     3356497     PhoenixSong     2.5   \n",
       "13170071     3356498         tsantos     2.0   \n",
       "13170072     3356499  Mighty Florist     2.0   \n",
       "\n",
       "                                                    comment    ID  \\\n",
       "0                                                       NaN    13   \n",
       "1                                                       NaN    13   \n",
       "2         Currently, this sits on my list as my favorite...    13   \n",
       "3         I know it says how many plays, but many, many ...    13   \n",
       "4                                                       NaN    13   \n",
       "...                                                     ...   ...   \n",
       "13170068                                                NaN  8256   \n",
       "13170069  Lego created a version of Pictionary, only you...  8256   \n",
       "13170070  This game is very similar to Creationary. It c...  8256   \n",
       "13170071  This game was really bad.  Worst that I've pla...  8256   \n",
       "13170072                                                NaN  8256   \n",
       "\n",
       "                               name  \n",
       "0                             Catan  \n",
       "1                             Catan  \n",
       "2                             Catan  \n",
       "3                             Catan  \n",
       "4                             Catan  \n",
       "...                             ...  \n",
       "13170068  LEGO Constructionary Game  \n",
       "13170069  LEGO Constructionary Game  \n",
       "13170070  LEGO Constructionary Game  \n",
       "13170071  LEGO Constructionary Game  \n",
       "13170072  LEGO Constructionary Game  \n",
       "\n",
       "[13170073 rows x 6 columns]"
      ]
     },
     "execution_count": 36,
     "metadata": {},
     "output_type": "execute_result"
    }
   ],
   "source": [
    "df_reviews"
   ]
  },
  {
   "cell_type": "markdown",
   "metadata": {},
   "source": [
    "## Exploring Rating Column"
   ]
  },
  {
   "cell_type": "markdown",
   "metadata": {},
   "source": [
    "#### There are 8202 different ratings in this huge dataset ....!!!!"
   ]
  },
  {
   "cell_type": "code",
   "execution_count": 37,
   "metadata": {},
   "outputs": [
    {
     "name": "stdout",
     "output_type": "stream",
     "text": [
      "8202\n"
     ]
    }
   ],
   "source": [
    "df = df_reviews[['comment', 'rating']] \n",
    "series_rating = df['rating'].value_counts()\n",
    "dict_reviews = {}\n",
    "for i in series_rating.index:\n",
    "    dict_reviews[i] = series_rating.get(key = i) \n",
    "print(len(dict_reviews))"
   ]
  },
  {
   "cell_type": "code",
   "execution_count": 38,
   "metadata": {},
   "outputs": [
    {
     "name": "stdout",
     "output_type": "stream",
     "text": [
      "total ratings = 13170073 , unique ratings = 8202 , Before Elimining NaN Rows\n"
     ]
    }
   ],
   "source": [
    "k = Counter(dict_reviews)\n",
    "print(\"total ratings =\", sum(k.values()),\", unique ratings =\", len(k.values()),\", Before Elimining NaN Rows\")\n"
   ]
  },
  {
   "cell_type": "code",
   "execution_count": 39,
   "metadata": {},
   "outputs": [
    {
     "data": {
      "text/plain": [
       "[(7.0, 2977370),\n",
       " (8.0, 2468632),\n",
       " (6.0, 1987008),\n",
       " (9.0, 1158917),\n",
       " (5.0, 923398),\n",
       " (10.0, 588170),\n",
       " (7.5, 582449),\n",
       " (4.0, 432745),\n",
       " (6.5, 400324),\n",
       " (8.5, 296297),\n",
       " (3.0, 221760),\n",
       " (5.5, 112108),\n",
       " (2.0, 106102),\n",
       " (9.5, 81319),\n",
       " (1.0, 63767)]"
      ]
     },
     "execution_count": 39,
     "metadata": {},
     "output_type": "execute_result"
    }
   ],
   "source": [
    "k.most_common(15)"
   ]
  },
  {
   "cell_type": "code",
   "execution_count": 40,
   "metadata": {},
   "outputs": [
    {
     "data": {
      "text/plain": [
       "Unnamed: 0           0\n",
       "user                66\n",
       "rating               0\n",
       "comment       10532317\n",
       "ID                   0\n",
       "name                 0\n",
       "dtype: int64"
      ]
     },
     "execution_count": 40,
     "metadata": {},
     "output_type": "execute_result"
    }
   ],
   "source": [
    "df_reviews.isnull().sum()"
   ]
  },
  {
   "cell_type": "markdown",
   "metadata": {},
   "source": [
    "#### Eliminating Records with **Empty Comments** as those rows won't help in modelling and exploring the rating column again"
   ]
  },
  {
   "cell_type": "code",
   "execution_count": 41,
   "metadata": {},
   "outputs": [
    {
     "data": {
      "text/plain": [
       "(2637756, 6)"
      ]
     },
     "execution_count": 41,
     "metadata": {},
     "output_type": "execute_result"
    }
   ],
   "source": [
    "df_reviews_new = df_reviews.dropna()\n",
    "df_reviews_new.shape"
   ]
  },
  {
   "cell_type": "code",
   "execution_count": 42,
   "metadata": {},
   "outputs": [
    {
     "data": {
      "text/plain": [
       "3408"
      ]
     },
     "execution_count": 42,
     "metadata": {},
     "output_type": "execute_result"
    }
   ],
   "source": [
    "df_new = df_reviews_new[['comment', 'rating']] \n",
    "series_rating_new = df_new['rating'].value_counts()\n",
    "dict_reviews_new = {}\n",
    "for i in series_rating_new.index:\n",
    "    dict_reviews_new[i] = series_rating_new.get(key = i) \n",
    "len(dict_reviews_new)"
   ]
  },
  {
   "cell_type": "code",
   "execution_count": 43,
   "metadata": {},
   "outputs": [
    {
     "name": "stdout",
     "output_type": "stream",
     "text": [
      "total ratings = 2637756 , unique ratings = 3408 , After Elimining NaN Rows\n"
     ]
    }
   ],
   "source": [
    "k_new = Counter(dict_reviews_new)\n",
    "print(\"total ratings =\", sum(k_new.values()),\", unique ratings =\", len(k_new.values()),\", After Elimining NaN Rows\")"
   ]
  },
  {
   "cell_type": "code",
   "execution_count": 44,
   "metadata": {},
   "outputs": [
    {
     "data": {
      "text/plain": [
       "[(7.0, 525950),\n",
       " (8.0, 432375),\n",
       " (6.0, 393411),\n",
       " (9.0, 216637),\n",
       " (5.0, 211380),\n",
       " (10.0, 127325),\n",
       " (4.0, 119549),\n",
       " (7.5, 115838),\n",
       " (6.5, 85107),\n",
       " (3.0, 69442),\n",
       " (8.5, 62524),\n",
       " (2.0, 36905),\n",
       " (5.5, 28612),\n",
       " (9.5, 20466),\n",
       " (1.0, 19788)]"
      ]
     },
     "execution_count": 44,
     "metadata": {},
     "output_type": "execute_result"
    }
   ],
   "source": [
    "k_new.most_common(15)"
   ]
  },
  {
   "cell_type": "markdown",
   "metadata": {},
   "source": [
    "#### We can see that there are records with rating = 7.0 before and after elimination of records"
   ]
  },
  {
   "cell_type": "code",
   "execution_count": 45,
   "metadata": {},
   "outputs": [
    {
     "data": {
      "image/png": "[encoded data removed]",
      "text/plain": [
       "<Figure size 432x288 with 1 Axes>"
      ]
     },
     "metadata": {
      "needs_background": "light"
     },
     "output_type": "display_data"
    },
    {
     "data": {
      "image/png": "[encoded data removed]",
      "text/plain": [
       "<Figure size 432x288 with 1 Axes>"
      ]
     },
     "metadata": {
      "needs_background": "light"
     },
     "output_type": "display_data"
    }
   ],
   "source": [
    "plt.plot(*zip(*sorted(dict_reviews.items())))\n",
    "plt.show()\n",
    "plt.plot(*zip(*sorted(dict_reviews_new.items())))\n",
    "plt.show()"
   ]
  },
  {
   "cell_type": "markdown",
   "metadata": {},
   "source": [
    "## Loading the New Data into csv file"
   ]
  },
  {
   "cell_type": "code",
   "execution_count": 46,
   "metadata": {},
   "outputs": [],
   "source": [
    "df_reviews_new.to_csv('FinalProject/export_dataframe.csv', index=False, header=True)"
   ]
  },
  {
   "cell_type": "markdown",
   "metadata": {},
   "source": [
    "## Preprocessing"
   ]
  },
  {
   "cell_type": "code",
   "execution_count": 31,
   "metadata": {},
   "outputs": [],
   "source": [
    "def clean_text(text):\n",
    "    text = text.lower()\n",
    "    clean = re.compile('<.*?>')\n",
    "    text = re.sub(clean,'',text)\n",
    "    text = re.sub(r\"\"\"[,.;@#?!&$]+\\ *\"\"\",\" \",text, flags=re.VERBOSE)\n",
    "    text = text.replace('\\r\\n', '-').replace('\\n', ' ')\n",
    "    check = text.replace(\" \", \"\").isalpha()\n",
    "    if check:\n",
    "        text = [word for word in word_tokenize(text)]\n",
    "    else:\n",
    "        text = [word for word in word_tokenize(text) if word.isalpha()]\n",
    "        \n",
    "    return text"
   ]
  },
  {
   "cell_type": "markdown",
   "metadata": {},
   "source": [
    "### Loading Data from csv in chunks and performing preprocessing and then changing the datatypes would help in better performance\n",
    "> * Converting to lowercase\n",
    "> * Removing html tags\n",
    "> * Removing empty spaces\n",
    "> * Removing punctuations\n",
    "> * Removing newline characters\n",
    "> * Removing numbers and symbols\n",
    "> * All of the above done using \"re\"\n",
    "> * Tokenization\n",
    "> * Stopwords Removal(I have given my own liast of stop words as it was necessary to retain some words from the NLTK stopwords)\n",
    "    > For example : \n",
    "    > * The game is good\n",
    "    > * The game is not good\n",
    "    > * Elimination of not may produce the same ratong for both the reviews. "
   ]
  },
  {
   "cell_type": "code",
   "execution_count": 49,
   "metadata": {},
   "outputs": [
    {
     "name": "stdout",
     "output_type": "stream",
     "text": [
      "index 1\n",
      "index 2\n",
      "index 3\n",
      "index 4\n",
      "index 5\n",
      "index 6\n"
     ]
    }
   ],
   "source": [
    "chunk_list1 = []\n",
    "ave_bytes = 0\n",
    "lancaster=LancasterStemmer()\n",
    "#stemmer = SnowballStemmer(\"english\")\n",
    "STOPWORDS= set([\"a\",\"about\",\"above\",\"after\",\"again\",\"against\",\"am\",\"an\",\"and\",\"any\",\"are\",\"as\",\"at\",\"be\",\"been\",\"before\",\"being\",\"below\",\"between\",\"both\",\"by\",\"can\",\"could\",\"did\",\"do\",\"does\",\"doing\",\"down\",\"during\",\"each\",\"few\",\"for\",\"from\",\"further\",\"had\",\"has\",\"have\",\"having\",\"he\",\"he'd\",\"he'll\",\"he's\",\"her\",\"here\",\"here's\",\"hers\",\"herself\",\"him\",\"himself\",\"his\",\"how\",\"how's\",\"i\",\"i'd\",\"i'll\",\"i'm\",\"i've\",\"in\",\"into\",\"is\",\"isn't\",\"it\",\"it's\",\"its\",\"itself\",\"let's\",\"me\",\"more\",\"myself\",\"of\",\"off\",\"on\",\"once\",\"only\",\"or\",\"other\",\"ought\",\"our\",\"ours\" ,\"ourselves\",\"out\",\"over\",\"own\",\"same\",\"she\",\"she'd\",\"she'll\",\"she's\",\"should\",\"so\",\"some\",\"such\",\"than\",\"that\",\"that's\",\"the\",\"their\",\"theirs\",\"them\",\"hemselves\",\"then\",\"there\",\"there's\",\"these\",\"they\",\"they'd\",\"they'll\",\"they're\",\"they've\",\"this\",\"those\",\"through\",\"to\",\"too\",\"under\",\"until\",\"up\",\"very\",\"was\",\"we\",\"we'd\",\"we'll\",\"we're\",\"we've\",\"were\",\"what\",\"what's\",\"when\",\"when's\",\"where\",\"where's\",\"which\",\"while\",\"who\",\"who's\",\"whom\",\"why\",\"why's\",\"with\",\"would\",\"you\",\"you'd\",\"you'll\",\"you're\",\"you've\",\"your\",\"yours\",\"yourself\",\"yourselves\",\"return\",\"hes\",\"heres\",\"hows\",\"im\",\"its\",\"lets\",\"shes\",\"thats\",\"theres\",\"theyll\",\"theyre\",\"theyve\",\"were\",\"whats\",\"whens\",\"wheres\",\"whos\",\"whys\",\"youd\",\"youll\",\"youre\",\"youve\"])\n",
    "reviews_rating = pd.DataFrame()\n",
    "for index, chunk in enumerate(pd.read_csv('FinalProject/export_dataframe.csv', chunksize= 500000),start=1):\n",
    "# We add total memory per chunk to ave_bytes\n",
    "    ave_bytes += chunk.memory_usage().sum()\n",
    "    chunk['comment'] = chunk['comment'].apply(clean_text)\n",
    "    #chunk['comment'] = chunk['comment'].apply(lambda x: str(TextBlob(x).correct()))\n",
    "    #STOPWORDS = set(stopwords.words('english'))\n",
    "    STOPWORDS_dict = dict.fromkeys(STOPWORDS, 0)\n",
    "    chunk['comment'] = chunk['comment'].apply(lambda x: [word for word in x if word not in STOPWORDS_dict])   \n",
    "    print(\"index\",index)\n",
    "    chunk_list1.append(chunk)\n",
    "reviews_rating = pd.concat(chunk_list1)\n"
   ]
  },
  {
   "cell_type": "code",
   "execution_count": 50,
   "metadata": {},
   "outputs": [],
   "source": [
    "d1 = dict.fromkeys(reviews_rating.select_dtypes(np.int64).columns, np.int32)\n",
    "d2 = dict.fromkeys(reviews_rating.select_dtypes(np.float64).columns, np.float32)\n",
    "reviews_rating = reviews_rating.astype(d1)\n",
    "reviews_rating = reviews_rating.astype(d2)\n"
   ]
  },
  {
   "cell_type": "markdown",
   "metadata": {},
   "source": [
    "## Data after Preprocessing"
   ]
  },
  {
   "cell_type": "code",
   "execution_count": 51,
   "metadata": {},
   "outputs": [
    {
     "data": {
      "text/html": [
       "<div>\n",
       "<style scoped>\n",
       "    .dataframe tbody tr th:only-of-type {\n",
       "        vertical-align: middle;\n",
       "    }\n",
       "\n",
       "    .dataframe tbody tr th {\n",
       "        vertical-align: top;\n",
       "    }\n",
       "\n",
       "    .dataframe thead th {\n",
       "        text-align: right;\n",
       "    }\n",
       "</style>\n",
       "<table border=\"1\" class=\"dataframe\">\n",
       "  <thead>\n",
       "    <tr style=\"text-align: right;\">\n",
       "      <th></th>\n",
       "      <th>Unnamed: 0</th>\n",
       "      <th>user</th>\n",
       "      <th>rating</th>\n",
       "      <th>comment</th>\n",
       "      <th>ID</th>\n",
       "      <th>name</th>\n",
       "    </tr>\n",
       "  </thead>\n",
       "  <tbody>\n",
       "    <tr>\n",
       "      <td>0</td>\n",
       "      <td>2</td>\n",
       "      <td>dougthonus</td>\n",
       "      <td>10.0</td>\n",
       "      <td>[currently, sits, my, list, my, favorite, game]</td>\n",
       "      <td>13</td>\n",
       "      <td>Catan</td>\n",
       "    </tr>\n",
       "    <tr>\n",
       "      <td>1</td>\n",
       "      <td>3</td>\n",
       "      <td>cypar7</td>\n",
       "      <td>10.0</td>\n",
       "      <td>[know, says, many, plays, but, many, many, unc...</td>\n",
       "      <td>13</td>\n",
       "      <td>Catan</td>\n",
       "    </tr>\n",
       "    <tr>\n",
       "      <td>2</td>\n",
       "      <td>7</td>\n",
       "      <td>hreimer</td>\n",
       "      <td>10.0</td>\n",
       "      <td>[will, never, tire, game, awesome]</td>\n",
       "      <td>13</td>\n",
       "      <td>Catan</td>\n",
       "    </tr>\n",
       "    <tr>\n",
       "      <td>3</td>\n",
       "      <td>11</td>\n",
       "      <td>daredevil</td>\n",
       "      <td>10.0</td>\n",
       "      <td>[probably, best, game, ever, played, requires,...</td>\n",
       "      <td>13</td>\n",
       "      <td>Catan</td>\n",
       "    </tr>\n",
       "    <tr>\n",
       "      <td>4</td>\n",
       "      <td>16</td>\n",
       "      <td>hurkle</td>\n",
       "      <td>10.0</td>\n",
       "      <td>[fantastic, game, got, hooked, games, all]</td>\n",
       "      <td>13</td>\n",
       "      <td>Catan</td>\n",
       "    </tr>\n",
       "  </tbody>\n",
       "</table>\n",
       "</div>"
      ],
      "text/plain": [
       "   Unnamed: 0        user  rating  \\\n",
       "0           2  dougthonus    10.0   \n",
       "1           3      cypar7    10.0   \n",
       "2           7     hreimer    10.0   \n",
       "3          11   daredevil    10.0   \n",
       "4          16      hurkle    10.0   \n",
       "\n",
       "                                             comment  ID   name  \n",
       "0    [currently, sits, my, list, my, favorite, game]  13  Catan  \n",
       "1  [know, says, many, plays, but, many, many, unc...  13  Catan  \n",
       "2                 [will, never, tire, game, awesome]  13  Catan  \n",
       "3  [probably, best, game, ever, played, requires,...  13  Catan  \n",
       "4         [fantastic, game, got, hooked, games, all]  13  Catan  "
      ]
     },
     "execution_count": 51,
     "metadata": {},
     "output_type": "execute_result"
    }
   ],
   "source": [
    "reviews_rating.head()"
   ]
  },
  {
   "cell_type": "markdown",
   "metadata": {},
   "source": [
    "## Pickle the Data\n",
    "> Pickle in Python is primarily used in serializing and deserializing a Python object structure. In other words, it's the process of converting a Python object into a byte stream to store it in a file/database, maintain program state across sessions, or transport data over the network."
   ]
  },
  {
   "cell_type": "code",
   "execution_count": 52,
   "metadata": {},
   "outputs": [],
   "source": [
    "with open('reviews_rating.pickle', 'wb') as r:\n",
    "    pickle.dump(reviews_rating, r)"
   ]
  },
  {
   "cell_type": "code",
   "execution_count": 13,
   "metadata": {},
   "outputs": [],
   "source": [
    "dbfile = open('reviews_rating.pickle', 'rb')      \n",
    "reviews_rating_pickled = pickle.load(dbfile) "
   ]
  },
  {
   "cell_type": "code",
   "execution_count": 14,
   "metadata": {},
   "outputs": [
    {
     "data": {
      "text/html": [
       "<div>\n",
       "<style scoped>\n",
       "    .dataframe tbody tr th:only-of-type {\n",
       "        vertical-align: middle;\n",
       "    }\n",
       "\n",
       "    .dataframe tbody tr th {\n",
       "        vertical-align: top;\n",
       "    }\n",
       "\n",
       "    .dataframe thead th {\n",
       "        text-align: right;\n",
       "    }\n",
       "</style>\n",
       "<table border=\"1\" class=\"dataframe\">\n",
       "  <thead>\n",
       "    <tr style=\"text-align: right;\">\n",
       "      <th></th>\n",
       "      <th>Unnamed: 0</th>\n",
       "      <th>user</th>\n",
       "      <th>rating</th>\n",
       "      <th>comment</th>\n",
       "      <th>ID</th>\n",
       "      <th>name</th>\n",
       "    </tr>\n",
       "  </thead>\n",
       "  <tbody>\n",
       "    <tr>\n",
       "      <td>0</td>\n",
       "      <td>2</td>\n",
       "      <td>dougthonus</td>\n",
       "      <td>10.0</td>\n",
       "      <td>[currently, sits, my, list, my, favorite, game]</td>\n",
       "      <td>13</td>\n",
       "      <td>Catan</td>\n",
       "    </tr>\n",
       "    <tr>\n",
       "      <td>1</td>\n",
       "      <td>3</td>\n",
       "      <td>cypar7</td>\n",
       "      <td>10.0</td>\n",
       "      <td>[know, says, many, plays, but, many, many, unc...</td>\n",
       "      <td>13</td>\n",
       "      <td>Catan</td>\n",
       "    </tr>\n",
       "    <tr>\n",
       "      <td>2</td>\n",
       "      <td>7</td>\n",
       "      <td>hreimer</td>\n",
       "      <td>10.0</td>\n",
       "      <td>[will, never, tire, game, awesome]</td>\n",
       "      <td>13</td>\n",
       "      <td>Catan</td>\n",
       "    </tr>\n",
       "    <tr>\n",
       "      <td>3</td>\n",
       "      <td>11</td>\n",
       "      <td>daredevil</td>\n",
       "      <td>10.0</td>\n",
       "      <td>[probably, best, game, ever, played, requires,...</td>\n",
       "      <td>13</td>\n",
       "      <td>Catan</td>\n",
       "    </tr>\n",
       "    <tr>\n",
       "      <td>4</td>\n",
       "      <td>16</td>\n",
       "      <td>hurkle</td>\n",
       "      <td>10.0</td>\n",
       "      <td>[fantastic, game, got, hooked, games, all]</td>\n",
       "      <td>13</td>\n",
       "      <td>Catan</td>\n",
       "    </tr>\n",
       "  </tbody>\n",
       "</table>\n",
       "</div>"
      ],
      "text/plain": [
       "   Unnamed: 0        user  rating  \\\n",
       "0           2  dougthonus    10.0   \n",
       "1           3      cypar7    10.0   \n",
       "2           7     hreimer    10.0   \n",
       "3          11   daredevil    10.0   \n",
       "4          16      hurkle    10.0   \n",
       "\n",
       "                                             comment  ID   name  \n",
       "0    [currently, sits, my, list, my, favorite, game]  13  Catan  \n",
       "1  [know, says, many, plays, but, many, many, unc...  13  Catan  \n",
       "2                 [will, never, tire, game, awesome]  13  Catan  \n",
       "3  [probably, best, game, ever, played, requires,...  13  Catan  \n",
       "4         [fantastic, game, got, hooked, games, all]  13  Catan  "
      ]
     },
     "execution_count": 14,
     "metadata": {},
     "output_type": "execute_result"
    }
   ],
   "source": [
    "reviews_rating_pickled.head()"
   ]
  },
  {
   "cell_type": "code",
   "execution_count": 15,
   "metadata": {},
   "outputs": [
    {
     "data": {
      "text/html": [
       "<div>\n",
       "<style scoped>\n",
       "    .dataframe tbody tr th:only-of-type {\n",
       "        vertical-align: middle;\n",
       "    }\n",
       "\n",
       "    .dataframe tbody tr th {\n",
       "        vertical-align: top;\n",
       "    }\n",
       "\n",
       "    .dataframe thead th {\n",
       "        text-align: right;\n",
       "    }\n",
       "</style>\n",
       "<table border=\"1\" class=\"dataframe\">\n",
       "  <thead>\n",
       "    <tr style=\"text-align: right;\">\n",
       "      <th></th>\n",
       "      <th>Unnamed: 0</th>\n",
       "      <th>user</th>\n",
       "      <th>rating</th>\n",
       "      <th>comment</th>\n",
       "      <th>ID</th>\n",
       "      <th>name</th>\n",
       "    </tr>\n",
       "  </thead>\n",
       "  <tbody>\n",
       "    <tr>\n",
       "      <td>0</td>\n",
       "      <td>2</td>\n",
       "      <td>dougthonus</td>\n",
       "      <td>10.0</td>\n",
       "      <td>currently sits my list my favorite game</td>\n",
       "      <td>13</td>\n",
       "      <td>Catan</td>\n",
       "    </tr>\n",
       "    <tr>\n",
       "      <td>1</td>\n",
       "      <td>3</td>\n",
       "      <td>cypar7</td>\n",
       "      <td>10.0</td>\n",
       "      <td>know says many plays but many many uncounted l...</td>\n",
       "      <td>13</td>\n",
       "      <td>Catan</td>\n",
       "    </tr>\n",
       "    <tr>\n",
       "      <td>2</td>\n",
       "      <td>7</td>\n",
       "      <td>hreimer</td>\n",
       "      <td>10.0</td>\n",
       "      <td>will never tire game awesome</td>\n",
       "      <td>13</td>\n",
       "      <td>Catan</td>\n",
       "    </tr>\n",
       "    <tr>\n",
       "      <td>3</td>\n",
       "      <td>11</td>\n",
       "      <td>daredevil</td>\n",
       "      <td>10.0</td>\n",
       "      <td>probably best game ever played requires just t...</td>\n",
       "      <td>13</td>\n",
       "      <td>Catan</td>\n",
       "    </tr>\n",
       "    <tr>\n",
       "      <td>4</td>\n",
       "      <td>16</td>\n",
       "      <td>hurkle</td>\n",
       "      <td>10.0</td>\n",
       "      <td>fantastic game got hooked games all</td>\n",
       "      <td>13</td>\n",
       "      <td>Catan</td>\n",
       "    </tr>\n",
       "    <tr>\n",
       "      <td>...</td>\n",
       "      <td>...</td>\n",
       "      <td>...</td>\n",
       "      <td>...</td>\n",
       "      <td>...</td>\n",
       "      <td>...</td>\n",
       "      <td>...</td>\n",
       "    </tr>\n",
       "    <tr>\n",
       "      <td>2637751</td>\n",
       "      <td>3356493</td>\n",
       "      <td>BonnieD24</td>\n",
       "      <td>3.0</td>\n",
       "      <td>horrible party game dumping one</td>\n",
       "      <td>8256</td>\n",
       "      <td>LEGO Constructionary Game</td>\n",
       "    </tr>\n",
       "    <tr>\n",
       "      <td>2637752</td>\n",
       "      <td>3356494</td>\n",
       "      <td>asm71</td>\n",
       "      <td>3.0</td>\n",
       "      <td>difficult build anything all included pieces</td>\n",
       "      <td>8256</td>\n",
       "      <td>LEGO Constructionary Game</td>\n",
       "    </tr>\n",
       "    <tr>\n",
       "      <td>2637753</td>\n",
       "      <td>3356496</td>\n",
       "      <td>Sprayoncrayon</td>\n",
       "      <td>3.0</td>\n",
       "      <td>lego created version pictionary limited number...</td>\n",
       "      <td>8256</td>\n",
       "      <td>LEGO Constructionary Game</td>\n",
       "    </tr>\n",
       "    <tr>\n",
       "      <td>2637754</td>\n",
       "      <td>3356497</td>\n",
       "      <td>PhoenixSong</td>\n",
       "      <td>2.5</td>\n",
       "      <td>game similar creationary comes different cards...</td>\n",
       "      <td>8256</td>\n",
       "      <td>LEGO Constructionary Game</td>\n",
       "    </tr>\n",
       "    <tr>\n",
       "      <td>2637755</td>\n",
       "      <td>3356498</td>\n",
       "      <td>tsantos</td>\n",
       "      <td>2.0</td>\n",
       "      <td>game really bad worst played genre</td>\n",
       "      <td>8256</td>\n",
       "      <td>LEGO Constructionary Game</td>\n",
       "    </tr>\n",
       "  </tbody>\n",
       "</table>\n",
       "<p>2637756 rows × 6 columns</p>\n",
       "</div>"
      ],
      "text/plain": [
       "         Unnamed: 0           user  rating  \\\n",
       "0                 2     dougthonus    10.0   \n",
       "1                 3         cypar7    10.0   \n",
       "2                 7        hreimer    10.0   \n",
       "3                11      daredevil    10.0   \n",
       "4                16         hurkle    10.0   \n",
       "...             ...            ...     ...   \n",
       "2637751     3356493      BonnieD24     3.0   \n",
       "2637752     3356494          asm71     3.0   \n",
       "2637753     3356496  Sprayoncrayon     3.0   \n",
       "2637754     3356497    PhoenixSong     2.5   \n",
       "2637755     3356498        tsantos     2.0   \n",
       "\n",
       "                                                   comment    ID  \\\n",
       "0                  currently sits my list my favorite game    13   \n",
       "1        know says many plays but many many uncounted l...    13   \n",
       "2                             will never tire game awesome    13   \n",
       "3        probably best game ever played requires just t...    13   \n",
       "4                      fantastic game got hooked games all    13   \n",
       "...                                                    ...   ...   \n",
       "2637751                    horrible party game dumping one  8256   \n",
       "2637752       difficult build anything all included pieces  8256   \n",
       "2637753  lego created version pictionary limited number...  8256   \n",
       "2637754  game similar creationary comes different cards...  8256   \n",
       "2637755                 game really bad worst played genre  8256   \n",
       "\n",
       "                              name  \n",
       "0                            Catan  \n",
       "1                            Catan  \n",
       "2                            Catan  \n",
       "3                            Catan  \n",
       "4                            Catan  \n",
       "...                            ...  \n",
       "2637751  LEGO Constructionary Game  \n",
       "2637752  LEGO Constructionary Game  \n",
       "2637753  LEGO Constructionary Game  \n",
       "2637754  LEGO Constructionary Game  \n",
       "2637755  LEGO Constructionary Game  \n",
       "\n",
       "[2637756 rows x 6 columns]"
      ]
     },
     "execution_count": 15,
     "metadata": {},
     "output_type": "execute_result"
    }
   ],
   "source": [
    "reviews_rating_pickled['comment'] = reviews_rating_pickled['comment'].apply(lambda x: ' '.join(word for word in x))\n",
    "reviews_rating_pickled"
   ]
  },
  {
   "cell_type": "markdown",
   "metadata": {},
   "source": [
    "### Top 10 frequent words"
   ]
  },
  {
   "cell_type": "code",
   "execution_count": 16,
   "metadata": {},
   "outputs": [
    {
     "data": {
      "text/plain": [
       "game     2557071\n",
       "but      1091798\n",
       "play      745820\n",
       "not       619836\n",
       "my        523443\n",
       "like      521576\n",
       "fun       519377\n",
       "one       483035\n",
       "good      399486\n",
       "games     383088\n",
       "dtype: int64"
      ]
     },
     "execution_count": 16,
     "metadata": {},
     "output_type": "execute_result"
    }
   ],
   "source": [
    "freq =  pd.Series(' '.join(reviews_rating_pickled['comment']).split()).value_counts()[:10]\n",
    "freq"
   ]
  },
  {
   "cell_type": "markdown",
   "metadata": {},
   "source": [
    "### Top 10 rare words"
   ]
  },
  {
   "cell_type": "code",
   "execution_count": 17,
   "metadata": {},
   "outputs": [
    {
     "data": {
      "text/plain": [
       "unfortuntaley    1\n",
       "papildymų        1\n",
       "unespicable      1\n",
       "jutalmazása      1\n",
       "식상하게             1\n",
       "sociétal         1\n",
       "manuerability    1\n",
       "dwarvy           1\n",
       "hüttendissing    1\n",
       "傳送到地圖上任一位置       1\n",
       "dtype: int64"
      ]
     },
     "execution_count": 17,
     "metadata": {},
     "output_type": "execute_result"
    }
   ],
   "source": [
    "rare = pd.Series(' '.join(reviews_rating_pickled['comment']).split()).value_counts()[-10:]\n",
    "rare"
   ]
  },
  {
   "cell_type": "markdown",
   "metadata": {},
   "source": [
    "## Shuffle the Data before Training"
   ]
  },
  {
   "cell_type": "code",
   "execution_count": 18,
   "metadata": {},
   "outputs": [
    {
     "data": {
      "text/html": [
       "<div>\n",
       "<style scoped>\n",
       "    .dataframe tbody tr th:only-of-type {\n",
       "        vertical-align: middle;\n",
       "    }\n",
       "\n",
       "    .dataframe tbody tr th {\n",
       "        vertical-align: top;\n",
       "    }\n",
       "\n",
       "    .dataframe thead th {\n",
       "        text-align: right;\n",
       "    }\n",
       "</style>\n",
       "<table border=\"1\" class=\"dataframe\">\n",
       "  <thead>\n",
       "    <tr style=\"text-align: right;\">\n",
       "      <th></th>\n",
       "      <th>Unnamed: 0</th>\n",
       "      <th>user</th>\n",
       "      <th>rating</th>\n",
       "      <th>comment</th>\n",
       "      <th>ID</th>\n",
       "      <th>name</th>\n",
       "    </tr>\n",
       "  </thead>\n",
       "  <tbody>\n",
       "    <tr>\n",
       "      <td>0</td>\n",
       "      <td>4669605</td>\n",
       "      <td>sabbath_</td>\n",
       "      <td>7.2</td>\n",
       "      <td>xxxxx</td>\n",
       "      <td>25554</td>\n",
       "      <td>Notre Dame</td>\n",
       "    </tr>\n",
       "    <tr>\n",
       "      <td>1</td>\n",
       "      <td>2632785</td>\n",
       "      <td>The Monstrous Jake</td>\n",
       "      <td>8.0</td>\n",
       "      <td>really like system ca put my finger but enjoy ...</td>\n",
       "      <td>1782</td>\n",
       "      <td>Ancients</td>\n",
       "    </tr>\n",
       "    <tr>\n",
       "      <td>2</td>\n",
       "      <td>179445</td>\n",
       "      <td>religon</td>\n",
       "      <td>9.0</td>\n",
       "      <td>clever cooperative game three levels difficult...</td>\n",
       "      <td>30549</td>\n",
       "      <td>Pandemic</td>\n",
       "    </tr>\n",
       "    <tr>\n",
       "      <td>3</td>\n",
       "      <td>510479</td>\n",
       "      <td>Android</td>\n",
       "      <td>4.0</td>\n",
       "      <td>group players just mood but one just sit well ...</td>\n",
       "      <td>296</td>\n",
       "      <td>Medieval Merchant</td>\n",
       "    </tr>\n",
       "    <tr>\n",
       "      <td>4</td>\n",
       "      <td>2891277</td>\n",
       "      <td>chuckles2000</td>\n",
       "      <td>8.0</td>\n",
       "      <td>best game awful zero handle strategy maybe par...</td>\n",
       "      <td>172</td>\n",
       "      <td>For Sale</td>\n",
       "    </tr>\n",
       "    <tr>\n",
       "      <td>...</td>\n",
       "      <td>...</td>\n",
       "      <td>...</td>\n",
       "      <td>...</td>\n",
       "      <td>...</td>\n",
       "      <td>...</td>\n",
       "      <td>...</td>\n",
       "    </tr>\n",
       "    <tr>\n",
       "      <td>2637751</td>\n",
       "      <td>2282453</td>\n",
       "      <td>Mangeluz</td>\n",
       "      <td>9.5</td>\n",
       "      <td>quite fun hard time remembering last used ninjas</td>\n",
       "      <td>164448</td>\n",
       "      <td>Ninja All-Stars</td>\n",
       "    </tr>\n",
       "    <tr>\n",
       "      <td>2637752</td>\n",
       "      <td>322626</td>\n",
       "      <td>i7dealer</td>\n",
       "      <td>7.0</td>\n",
       "      <td>played times now bumped my rating little good ...</td>\n",
       "      <td>1315</td>\n",
       "      <td>Africa</td>\n",
       "    </tr>\n",
       "    <tr>\n",
       "      <td>2637753</td>\n",
       "      <td>8777019</td>\n",
       "      <td>thesama</td>\n",
       "      <td>7.0</td>\n",
       "      <td>light civ game enjopyable but perhaps bit ligh...</td>\n",
       "      <td>17161</td>\n",
       "      <td>Tempus</td>\n",
       "    </tr>\n",
       "    <tr>\n",
       "      <td>2637754</td>\n",
       "      <td>8580199</td>\n",
       "      <td>PoisonApple</td>\n",
       "      <td>9.0</td>\n",
       "      <td>better time selection titles much easier names...</td>\n",
       "      <td>36553</td>\n",
       "      <td>Time's Up! Title Recall!</td>\n",
       "    </tr>\n",
       "    <tr>\n",
       "      <td>2637755</td>\n",
       "      <td>8684678</td>\n",
       "      <td>Jocab</td>\n",
       "      <td>6.0</td>\n",
       "      <td>played spiel essen dex game meeples see fuzz j...</td>\n",
       "      <td>193214</td>\n",
       "      <td>Meeple Circus</td>\n",
       "    </tr>\n",
       "  </tbody>\n",
       "</table>\n",
       "<p>2637756 rows × 6 columns</p>\n",
       "</div>"
      ],
      "text/plain": [
       "         Unnamed: 0                user  rating  \\\n",
       "0           4669605            sabbath_     7.2   \n",
       "1           2632785  The Monstrous Jake     8.0   \n",
       "2            179445             religon     9.0   \n",
       "3            510479             Android     4.0   \n",
       "4           2891277        chuckles2000     8.0   \n",
       "...             ...                 ...     ...   \n",
       "2637751     2282453            Mangeluz     9.5   \n",
       "2637752      322626            i7dealer     7.0   \n",
       "2637753     8777019             thesama     7.0   \n",
       "2637754     8580199         PoisonApple     9.0   \n",
       "2637755     8684678               Jocab     6.0   \n",
       "\n",
       "                                                   comment      ID  \\\n",
       "0                                                    xxxxx   25554   \n",
       "1        really like system ca put my finger but enjoy ...    1782   \n",
       "2        clever cooperative game three levels difficult...   30549   \n",
       "3        group players just mood but one just sit well ...     296   \n",
       "4        best game awful zero handle strategy maybe par...     172   \n",
       "...                                                    ...     ...   \n",
       "2637751   quite fun hard time remembering last used ninjas  164448   \n",
       "2637752  played times now bumped my rating little good ...    1315   \n",
       "2637753  light civ game enjopyable but perhaps bit ligh...   17161   \n",
       "2637754  better time selection titles much easier names...   36553   \n",
       "2637755  played spiel essen dex game meeples see fuzz j...  193214   \n",
       "\n",
       "                             name  \n",
       "0                      Notre Dame  \n",
       "1                        Ancients  \n",
       "2                        Pandemic  \n",
       "3               Medieval Merchant  \n",
       "4                        For Sale  \n",
       "...                           ...  \n",
       "2637751           Ninja All-Stars  \n",
       "2637752                    Africa  \n",
       "2637753                    Tempus  \n",
       "2637754  Time's Up! Title Recall!  \n",
       "2637755             Meeple Circus  \n",
       "\n",
       "[2637756 rows x 6 columns]"
      ]
     },
     "execution_count": 18,
     "metadata": {},
     "output_type": "execute_result"
    }
   ],
   "source": [
    "reviews_rating_pickled = reviews_rating_pickled.sample(frac=1).reset_index(drop=True)\n",
    "reviews_rating_pickled"
   ]
  },
  {
   "cell_type": "markdown",
   "metadata": {},
   "source": [
    "## Sampling"
   ]
  },
  {
   "cell_type": "code",
   "execution_count": 19,
   "metadata": {},
   "outputs": [
    {
     "data": {
      "text/html": [
       "<div>\n",
       "<style scoped>\n",
       "    .dataframe tbody tr th:only-of-type {\n",
       "        vertical-align: middle;\n",
       "    }\n",
       "\n",
       "    .dataframe tbody tr th {\n",
       "        vertical-align: top;\n",
       "    }\n",
       "\n",
       "    .dataframe thead th {\n",
       "        text-align: right;\n",
       "    }\n",
       "</style>\n",
       "<table border=\"1\" class=\"dataframe\">\n",
       "  <thead>\n",
       "    <tr style=\"text-align: right;\">\n",
       "      <th></th>\n",
       "      <th>Unnamed: 0</th>\n",
       "      <th>user</th>\n",
       "      <th>rating</th>\n",
       "      <th>comment</th>\n",
       "      <th>ID</th>\n",
       "      <th>name</th>\n",
       "    </tr>\n",
       "  </thead>\n",
       "  <tbody>\n",
       "    <tr>\n",
       "      <td>0</td>\n",
       "      <td>642160</td>\n",
       "      <td>Steve Carey</td>\n",
       "      <td>6.00</td>\n",
       "      <td>somewhat dubious game first but my surprise en...</td>\n",
       "      <td>172547</td>\n",
       "      <td>Queen's Architect</td>\n",
       "    </tr>\n",
       "    <tr>\n",
       "      <td>1</td>\n",
       "      <td>700413</td>\n",
       "      <td>Matthias_K</td>\n",
       "      <td>8.00</td>\n",
       "      <td>fun much deeper appears surface puzzly unique ...</td>\n",
       "      <td>161226</td>\n",
       "      <td>The Builders: Antiquity</td>\n",
       "    </tr>\n",
       "    <tr>\n",
       "      <td>2</td>\n",
       "      <td>7545398</td>\n",
       "      <td>ryanabrams</td>\n",
       "      <td>8.00</td>\n",
       "      <td>done poor job adding plays but easily my most ...</td>\n",
       "      <td>925</td>\n",
       "      <td>Werewolf</td>\n",
       "    </tr>\n",
       "    <tr>\n",
       "      <td>3</td>\n",
       "      <td>5293664</td>\n",
       "      <td>The Innocent</td>\n",
       "      <td>7.00</td>\n",
       "      <td>surprised good game captures creeping dread al...</td>\n",
       "      <td>146652</td>\n",
       "      <td>Legendary Encounters: An Alien Deck Building Game</td>\n",
       "    </tr>\n",
       "    <tr>\n",
       "      <td>4</td>\n",
       "      <td>2901370</td>\n",
       "      <td>ocp_001</td>\n",
       "      <td>6.00</td>\n",
       "      <td>rating comes my memory game child</td>\n",
       "      <td>7563</td>\n",
       "      <td>Jaws</td>\n",
       "    </tr>\n",
       "    <tr>\n",
       "      <td>...</td>\n",
       "      <td>...</td>\n",
       "      <td>...</td>\n",
       "      <td>...</td>\n",
       "      <td>...</td>\n",
       "      <td>...</td>\n",
       "      <td>...</td>\n",
       "    </tr>\n",
       "    <tr>\n",
       "      <td>659434</td>\n",
       "      <td>4719607</td>\n",
       "      <td>Maximuss</td>\n",
       "      <td>2.00</td>\n",
       "      <td>sometimes find rating system bgg little wonky ...</td>\n",
       "      <td>483</td>\n",
       "      <td>Diplomacy</td>\n",
       "    </tr>\n",
       "    <tr>\n",
       "      <td>659435</td>\n",
       "      <td>9723749</td>\n",
       "      <td>flolem</td>\n",
       "      <td>8.25</td>\n",
       "      <td>traded montreal math trade</td>\n",
       "      <td>123499</td>\n",
       "      <td>City of Iron</td>\n",
       "    </tr>\n",
       "    <tr>\n",
       "      <td>659436</td>\n",
       "      <td>6015077</td>\n",
       "      <td>cnidius</td>\n",
       "      <td>7.00</td>\n",
       "      <td>nice refreshing game</td>\n",
       "      <td>21882</td>\n",
       "      <td>Blue Moon City</td>\n",
       "    </tr>\n",
       "    <tr>\n",
       "      <td>659437</td>\n",
       "      <td>9342815</td>\n",
       "      <td>benshever</td>\n",
       "      <td>5.00</td>\n",
       "      <td>pretty good game wouldn t mind playing suppose</td>\n",
       "      <td>592</td>\n",
       "      <td>Spades</td>\n",
       "    </tr>\n",
       "    <tr>\n",
       "      <td>659438</td>\n",
       "      <td>3582885</td>\n",
       "      <td>rodenbeckb</td>\n",
       "      <td>8.20</td>\n",
       "      <td>game fine ca say super impressed might take pl...</td>\n",
       "      <td>54</td>\n",
       "      <td>Tikal</td>\n",
       "    </tr>\n",
       "  </tbody>\n",
       "</table>\n",
       "<p>659439 rows × 6 columns</p>\n",
       "</div>"
      ],
      "text/plain": [
       "        Unnamed: 0          user  rating  \\\n",
       "0           642160   Steve Carey    6.00   \n",
       "1           700413    Matthias_K    8.00   \n",
       "2          7545398    ryanabrams    8.00   \n",
       "3          5293664  The Innocent    7.00   \n",
       "4          2901370       ocp_001    6.00   \n",
       "...            ...           ...     ...   \n",
       "659434     4719607      Maximuss    2.00   \n",
       "659435     9723749        flolem    8.25   \n",
       "659436     6015077       cnidius    7.00   \n",
       "659437     9342815     benshever    5.00   \n",
       "659438     3582885    rodenbeckb    8.20   \n",
       "\n",
       "                                                  comment      ID  \\\n",
       "0       somewhat dubious game first but my surprise en...  172547   \n",
       "1       fun much deeper appears surface puzzly unique ...  161226   \n",
       "2       done poor job adding plays but easily my most ...     925   \n",
       "3       surprised good game captures creeping dread al...  146652   \n",
       "4                       rating comes my memory game child    7563   \n",
       "...                                                   ...     ...   \n",
       "659434  sometimes find rating system bgg little wonky ...     483   \n",
       "659435                         traded montreal math trade  123499   \n",
       "659436                               nice refreshing game   21882   \n",
       "659437     pretty good game wouldn t mind playing suppose     592   \n",
       "659438  game fine ca say super impressed might take pl...      54   \n",
       "\n",
       "                                                     name  \n",
       "0                                       Queen's Architect  \n",
       "1                                 The Builders: Antiquity  \n",
       "2                                                Werewolf  \n",
       "3       Legendary Encounters: An Alien Deck Building Game  \n",
       "4                                                    Jaws  \n",
       "...                                                   ...  \n",
       "659434                                          Diplomacy  \n",
       "659435                                       City of Iron  \n",
       "659436                                     Blue Moon City  \n",
       "659437                                             Spades  \n",
       "659438                                              Tikal  \n",
       "\n",
       "[659439 rows x 6 columns]"
      ]
     },
     "execution_count": 19,
     "metadata": {},
     "output_type": "execute_result"
    }
   ],
   "source": [
    "reviews_rating_sample = reviews_rating_pickled.sample(frac=0.25).reset_index(drop=True)\n",
    "reviews_rating_sample"
   ]
  },
  {
   "cell_type": "markdown",
   "metadata": {},
   "source": [
    "## Splitting the data into Train and Test"
   ]
  },
  {
   "cell_type": "code",
   "execution_count": 20,
   "metadata": {},
   "outputs": [],
   "source": [
    "X = reviews_rating_sample['comment']\n",
    "y = reviews_rating_sample['rating']\n",
    "\n",
    "X_train, X_test, y_train, y_test = train_test_split(X, y, test_size=0.1, random_state = 0)"
   ]
  },
  {
   "cell_type": "code",
   "execution_count": 21,
   "metadata": {},
   "outputs": [
    {
     "name": "stdout",
     "output_type": "stream",
     "text": [
      "(593495, 184742) (65944, 184742)\n"
     ]
    }
   ],
   "source": [
    "vectorizer1 = TfidfVectorizer()\n",
    "train_vectors = vectorizer1.fit_transform(X_train)\n",
    "with open('Vocab.pickle', 'wb') as v:\n",
    "    pickle.dump(vectorizer1, v)\n",
    "vectorizer2 = TfidfVectorizer(vocabulary=vectorizer1.vocabulary_)\n",
    "test_vectors = vectorizer2.fit_transform(X_test)\n",
    "print(train_vectors.shape, test_vectors.shape)\n",
    "#print(vectorizer1, vectorizer2)"
   ]
  },
  {
   "cell_type": "markdown",
   "metadata": {},
   "source": [
    "## Regression Models\n",
    "> * As the Rating Column values are continuous, I used Regression Models for Training the Data\n",
    "> * Calculated respective MSE and r2_score metrics"
   ]
  },
  {
   "cell_type": "markdown",
   "metadata": {},
   "source": [
    "### Linear Regression"
   ]
  },
  {
   "cell_type": "code",
   "execution_count": 22,
   "metadata": {},
   "outputs": [],
   "source": [
    "linear_regression = LinearRegression()\n",
    "linear_regression.fit(train_vectors, y_train)\n",
    "with open('LinearRegression.pickle', 'wb') as l:\n",
    "    pickle.dump(linear_regression, l)\n",
    "y_pred = linear_regression.predict(test_vectors)\n"
   ]
  },
  {
   "cell_type": "code",
   "execution_count": 23,
   "metadata": {},
   "outputs": [
    {
     "name": "stdout",
     "output_type": "stream",
     "text": [
      "Mean squared error: 2.96\n",
      "Coefficient of determination: 0.06\n"
     ]
    }
   ],
   "source": [
    "\n",
    "print('Mean squared error: %.2f'% mean_squared_error(y_test,y_pred))\n",
    "# The coefficient of determination: 1 is perfect prediction\n",
    "print('Coefficient of determination: %.2f'% r2_score(y_test,y_pred))\n"
   ]
  },
  {
   "cell_type": "markdown",
   "metadata": {},
   "source": [
    "### Lasso Regression (Linear Model trained with L1 prior as regularizer)"
   ]
  },
  {
   "cell_type": "markdown",
   "metadata": {},
   "source": [
    "#### alpha = 0.1"
   ]
  },
  {
   "cell_type": "code",
   "execution_count": 24,
   "metadata": {},
   "outputs": [],
   "source": [
    "lasso_model1 = linear_model.Lasso(alpha=0.1)\n",
    "lasso_model1.fit(train_vectors, y_train)\n",
    "with open('Lasso.pickle1', 'wb') as lasso1:\n",
    "    pickle.dump(lasso_model1, lasso1)\n",
    "y_pred_lasso1 = lasso_model1.predict(test_vectors)"
   ]
  },
  {
   "cell_type": "code",
   "execution_count": 25,
   "metadata": {},
   "outputs": [
    {
     "name": "stdout",
     "output_type": "stream",
     "text": [
      "Mean squared error: 3.16\n",
      "Coefficient of determination: -0.00\n"
     ]
    }
   ],
   "source": [
    "print('Mean squared error: %.2f'% mean_squared_error(y_test,y_pred_lasso1))\n",
    "# The coefficient of determination: 1 is perfect prediction\n",
    "print('Coefficient of determination: %.2f'% r2_score(y_test,y_pred_lasso1))"
   ]
  },
  {
   "cell_type": "markdown",
   "metadata": {},
   "source": [
    "#### alpha = 0.01 "
   ]
  },
  {
   "cell_type": "code",
   "execution_count": 26,
   "metadata": {},
   "outputs": [],
   "source": [
    "lasso_model2 = linear_model.Lasso(alpha=0.01)\n",
    "lasso_model2.fit(train_vectors, y_train)\n",
    "with open('Lasso.pickle2', 'wb') as lasso2:\n",
    "    pickle.dump(lasso_model2, lasso2)\n",
    "y_pred_lasso2 = lasso_model2.predict(test_vectors)"
   ]
  },
  {
   "cell_type": "code",
   "execution_count": 27,
   "metadata": {},
   "outputs": [
    {
     "name": "stdout",
     "output_type": "stream",
     "text": [
      "Mean squared error: 3.10\n",
      "Coefficient of determination: 0.02\n"
     ]
    }
   ],
   "source": [
    "print('Mean squared error: %.2f'% mean_squared_error(y_test,y_pred_lasso2))\n",
    "# The coefficient of determination: 1 is perfect prediction\n",
    "print('Coefficient of determination: %.2f'% r2_score(y_test,y_pred_lasso2))"
   ]
  },
  {
   "cell_type": "markdown",
   "metadata": {},
   "source": [
    "### Ridge Regression"
   ]
  },
  {
   "cell_type": "code",
   "execution_count": 28,
   "metadata": {},
   "outputs": [],
   "source": [
    "ridge = Ridge(alpha=1.0)\n",
    "ridge.fit(train_vectors, y_train)\n",
    "with open('Ridge.pickle', 'wb') as rr:\n",
    "    pickle.dump(ridge, rr)\n",
    "y_pred_ridge = ridge.predict(test_vectors)"
   ]
  },
  {
   "cell_type": "code",
   "execution_count": 29,
   "metadata": {},
   "outputs": [
    {
     "name": "stdout",
     "output_type": "stream",
     "text": [
      "Mean squared error: 2.07\n",
      "Coefficient of determination: 0.35\n"
     ]
    }
   ],
   "source": [
    "print('Mean squared error: %.2f'% mean_squared_error(y_test,y_pred_ridge))\n",
    "# The coefficient of determination: 1 is perfect prediction\n",
    "print('Coefficient of determination: %.2f'% r2_score(y_test,y_pred_ridge))"
   ]
  },
  {
   "cell_type": "markdown",
   "metadata": {},
   "source": [
    "## Conclusion\n",
    "As the MSE of Ridge Regression Model is the best value among all, I choose Ridge Regression for predict the reviews\n"
   ]
  },
  {
   "cell_type": "code",
   "execution_count": 44,
   "metadata": {},
   "outputs": [
    {
     "data": {
      "text/plain": [
       "7.95"
      ]
     },
     "execution_count": 44,
     "metadata": {},
     "output_type": "execute_result"
    }
   ],
   "source": [
    "file = open('Vocab.pickle', 'rb')      \n",
    "vocab_pickled = pickle.load(file) \n",
    "vectorizer = TfidfVectorizer(vocabulary=vocab_pickled.vocabulary_)\n",
    "model = open('Ridge.pickle', 'rb')      \n",
    "ridge_pickled = pickle.load(model) \n",
    "comment = \"The GaMe is gOOd and creates fun while playing..!!\"\n",
    "comment = clean_text(comment)\n",
    "STOPWORDS= set([\"a\",\"about\",\"above\",\"after\",\"again\",\"against\",\"am\",\"an\",\"and\",\"any\",\"are\",\"as\",\"at\",\"be\",\"been\",\"before\",\"being\",\"below\",\"between\",\"both\",\"by\",\"can\",\"could\",\"did\",\"do\",\"does\",\"doing\",\"down\",\"during\",\"each\",\"few\",\"for\",\"from\",\"further\",\"had\",\"has\",\"have\",\"having\",\"he\",\"he'd\",\"he'll\",\"he's\",\"her\",\"here\",\"here's\",\"hers\",\"herself\",\"him\",\"himself\",\"his\",\"how\",\"how's\",\"i\",\"i'd\",\"i'll\",\"i'm\",\"i've\",\"in\",\"into\",\"is\",\"isn't\",\"it\",\"it's\",\"its\",\"itself\",\"let's\",\"me\",\"more\",\"myself\",\"of\",\"off\",\"on\",\"once\",\"only\",\"or\",\"other\",\"ought\",\"our\",\"ours\" ,\"ourselves\",\"out\",\"over\",\"own\",\"same\",\"she\",\"she'd\",\"she'll\",\"she's\",\"should\",\"so\",\"some\",\"such\",\"than\",\"that\",\"that's\",\"the\",\"their\",\"theirs\",\"them\",\"hemselves\",\"then\",\"there\",\"there's\",\"these\",\"they\",\"they'd\",\"they'll\",\"they're\",\"they've\",\"this\",\"those\",\"through\",\"to\",\"too\",\"under\",\"until\",\"up\",\"very\",\"was\",\"we\",\"we'd\",\"we'll\",\"we're\",\"we've\",\"were\",\"what\",\"what's\",\"when\",\"when's\",\"where\",\"where's\",\"which\",\"while\",\"who\",\"who's\",\"whom\",\"why\",\"why's\",\"with\",\"would\",\"you\",\"you'd\",\"you'll\",\"you're\",\"you've\",\"your\",\"yours\",\"yourself\",\"yourselves\",\"return\",\"hes\",\"heres\",\"hows\",\"im\",\"its\",\"lets\",\"shes\",\"thats\",\"theres\",\"theyll\",\"theyre\",\"theyve\",\"were\",\"whats\",\"whens\",\"wheres\",\"whos\",\"whys\",\"youd\",\"youll\",\"youre\",\"youve\"])\n",
    "STOPWORDS_dict = dict.fromkeys(STOPWORDS, 0)\n",
    "comment = [word for word in comment if word not in STOPWORDS_dict]\n",
    "comment = ' '.join(word for word in comment)\n",
    "p = vectorizer.fit_transform([comment])\n",
    "round(ridge_pickled.predict(p)[0],2)\n"
   ]
  },
  {
   "cell_type": "markdown",
   "metadata": {},
   "source": [
    "## Challenges\n",
    "* Analyzing the dataset to decide which kind of model to choose among Regression and Classification Models.\n",
    "* Reading a large data set was one of the challenges which was overcome by using concept of chunks and random sampling. 25% of the cleaned and processed dataset was used for training the models.\n",
    "* There were about 8000 unique values for rating column. Since I finally got stick to Regression I kept the ratings as itself and used different Regression Models and picking one from them was challenging as all the MSE values were almost close to each other."
   ]
  },
  {
   "cell_type": "markdown",
   "metadata": {},
   "source": [
    "## Reference Links\n",
    "* https://towardsdatascience.com/multi-class-text-classification-with-scikit-learn-12f1e60e0a9f\n",
    "* https://towardsdatascience.com/fine-grained-sentiment-analysis-in-python-part-1-2697bb111ed4\n",
    "* https://medium.com/@abirj/text-analysis-and-classification-of-reviews-in-python-f4859e68b6cb\n",
    "* https://towardsdatascience.com/multi-class-text-classification-model-comparison-and-selection-5eb066197568\n",
    "* https://www.kaggle.com/selener/multi-class-text-classification-tfidf\n",
    "* https://www.geeksforgeeks.org/multiclass-classification-using-scikit-learn/\n",
    "* https://towardsdatascience.com/multi-class-text-classification-with-sklearn-and-nltk-in-python-a-software-engineering-use-case-779d4a28ba5\n",
    "* https://stackabuse.com/overview-of-classification-methods-in-python-with-scikit-learn/\n",
    "* http://www.ds100.org/sp17/assets/notebooks/linear_regression/Feature_Engineering_Part1.html#Mapping-from-Domain-to-Range\n",
    "* https://towardsdatascience.com/understanding-feature-engineering-part-1-continuous-numeric-data-da4e47099a7b\n",
    "* https://towardsdatascience.com/feature-engineering-for-machine-learning-3a5e293a5114\n",
    "* https://www.analyticsvidhya.com/blog/2015/11/8-ways-deal-continuous-variables-predictive-modeling/"
   ]
  },
  {
   "cell_type": "code",
   "execution_count": null,
   "metadata": {},
   "outputs": [],
   "source": []
  }
 ],
 "metadata": {
  "environment": {
   "name": "common-cpu.m47",
   "type": "gcloud",
   "uri": "gcr.io/deeplearning-platform-release/base-cpu:m47"
  },
  "kernelspec": {
   "display_name": "Python 3",
   "language": "python",
   "name": "python3"
  },
  "language_info": {
   "codemirror_mode": {
    "name": "ipython",
    "version": 3
   },
   "file_extension": ".py",
   "mimetype": "text/x-python",
   "name": "python",
   "nbconvert_exporter": "python",
   "pygments_lexer": "ipython3",
   "version": "3.7.4"
  }
 },
 "nbformat": 4,
 "nbformat_minor": 4
}
